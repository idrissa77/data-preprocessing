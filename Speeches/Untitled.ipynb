{
 "cells": [
  {
   "cell_type": "code",
   "execution_count": 1,
   "id": "0af0944b",
   "metadata": {},
   "outputs": [],
   "source": [
    "from os import listdir"
   ]
  },
  {
   "cell_type": "code",
   "execution_count": 2,
   "id": "4a45909f",
   "metadata": {},
   "outputs": [
    {
     "name": "stdout",
     "output_type": "stream",
     "text": [
      " Volume in drive C has no label.\n",
      " Volume Serial Number is DE61-19FA\n",
      "\n",
      " Directory of C:\\Users\\Idrissa_TRAORE\\Desktop\\drive-download-20230220T235413Z-001\n",
      "\n",
      "02/21/2023  12:59 PM    <DIR>          .\n",
      "02/21/2023  12:59 PM    <DIR>          ..\n",
      "02/21/2023  12:59 PM    <DIR>          .ipynb_checkpoints\n",
      "02/14/2023  08:47 AM            95,916 BattleCreekDec19_2019.txt\n",
      "02/14/2023  08:47 AM            89,833 BemidjiSep18_2020.txt\n",
      "02/14/2023  08:47 AM            51,876 CharlestonFeb28_2020.txt\n",
      "02/14/2023  08:47 AM            37,189 CharlotteMar2_2020.txt\n",
      "02/14/2023  08:47 AM            44,984 CincinnatiAug1_2019.txt\n",
      "02/14/2023  08:47 AM            63,212 ColoradorSpringsFeb20_2020.txt\n",
      "02/14/2023  08:47 AM            57,143 DallasOct17_2019.txt\n",
      "02/14/2023  08:47 AM            64,560 DesMoinesJan30_2020.txt\n",
      "02/14/2023  08:47 AM            87,099 FayettevilleSep19_2020.txt\n",
      "02/14/2023  08:47 AM            50,534 FayettevilleSep9_2019.txt\n",
      "02/14/2023  08:47 AM            54,995 FreelandSep10_2020.txt\n",
      "02/14/2023  08:47 AM            58,205 GreenvilleJul17_2019.txt\n",
      "02/14/2023  08:47 AM            49,162 HendersonSep13_2020.txt\n",
      "02/14/2023  08:47 AM            54,726 HersheyDec10_2019.txt\n",
      "02/14/2023  08:47 AM            74,708 LasVegasFeb21_2020.txt\n",
      "02/14/2023  08:47 AM            67,566 LatrobeSep3_2020.txt\n",
      "02/14/2023  08:47 AM            49,765 LexingtonNov4_2019.txt\n",
      "02/14/2023  08:47 AM            52,285 MilwaukeeJan14_2020.txt\n",
      "02/14/2023  08:47 AM            76,858 MindenSep12_2020.txt\n",
      "02/14/2023  08:47 AM            63,515 MinneapolisOct10_2019.txt\n",
      "02/14/2023  08:47 AM            78,192 MosineeSep17_2020.txt\n",
      "02/14/2023  08:47 AM            55,428 NewHampshireAug15_2019.txt\n",
      "02/14/2023  08:47 AM            49,444 NewHampshireAug28_2020.txt\n",
      "02/14/2023  08:47 AM            36,876 NewHampshireFeb10_2020.txt\n",
      "02/14/2023  08:47 AM            63,349 NewMexicoSep16_2019.txt\n",
      "02/14/2023  08:47 AM            58,336 OhioSep21_2020.txt\n",
      "02/14/2023  08:47 AM            52,718 PhoenixFeb19_2020.txt\n",
      "02/14/2023  08:47 AM            65,090 PittsburghSep22_2020.txt\n",
      "02/14/2023  08:47 AM            14,616 TexasSep23_2019.txt\n",
      "02/14/2023  08:47 AM            58,815 ToledoJan9_2020.txt\n",
      "02/14/2023  08:47 AM            61,189 TulsaJun20_2020.txt\n",
      "02/14/2023  08:47 AM            51,248 TupeloNov1_2019.txt\n",
      "02/21/2023  12:59 PM                72 Untitled.ipynb\n",
      "02/14/2023  08:47 AM            39,007 WildwoodJan28_2020.txt\n",
      "02/14/2023  08:47 AM            60,863 Winston-SalemSep8_2020.txt\n",
      "02/14/2023  08:47 AM            34,486 YumaAug18_2020.txt\n",
      "              36 File(s)      2,023,860 bytes\n",
      "               3 Dir(s)  64,275,341,312 bytes free\n"
     ]
    }
   ],
   "source": [
    "ls"
   ]
  },
  {
   "cell_type": "code",
   "execution_count": null,
   "id": "a793ea34",
   "metadata": {},
   "outputs": [],
   "source": [
    "noms_fichiers = listdir(\"Spchees\")\n",
    "noms"
   ]
  }
 ],
 "metadata": {
  "kernelspec": {
   "display_name": "Python 3 (ipykernel)",
   "language": "python",
   "name": "python3"
  },
  "language_info": {
   "codemirror_mode": {
    "name": "ipython",
    "version": 3
   },
   "file_extension": ".py",
   "mimetype": "text/x-python",
   "name": "python",
   "nbconvert_exporter": "python",
   "pygments_lexer": "ipython3",
   "version": "3.9.13"
  }
 },
 "nbformat": 4,
 "nbformat_minor": 5
}
